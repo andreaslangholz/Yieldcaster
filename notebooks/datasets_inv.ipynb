{
 "cells": [
  {
   "cell_type": "code",
   "execution_count": null,
   "metadata": {},
   "outputs": [],
   "source": [
    "from src.utils import get_data, rmse, baseline_rolling\n",
    "import pandas as pd"
   ]
  }
 ],
 "metadata": {
  "kernelspec": {
   "display_name": "Python 3.10.5 64-bit (windows store)",
   "language": "python",
   "name": "python3"
  },
  "language_info": {
   "name": "python",
   "version": "3.10.5"
  },
  "orig_nbformat": 4,
  "vscode": {
   "interpreter": {
    "hash": "255f368fe5968142187b45b447bb971c2263b30f06c7c47462122f57a9d26231"
   }
  }
 },
 "nbformat": 4,
 "nbformat_minor": 2
}
