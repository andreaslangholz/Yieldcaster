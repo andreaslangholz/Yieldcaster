{
 "cells": [
  {
   "cell_type": "code",
   "execution_count": null,
   "metadata": {},
   "outputs": [],
   "source": [
    "import pandas as pd\n",
    "import matplotlib.pyplot as plt\n",
    "import plotly.graph_objects as go\n",
    "import numpy as np\n"
   ]
  },
  {
   "cell_type": "code",
   "execution_count": null,
   "metadata": {},
   "outputs": [],
   "source": [
    "df_kfoldavg =  pd.read_csv(\"C:\\\\Users\\\\Andreas Langholz\\\\Yieldcaster\\\\ \\\n",
    "    data\\\\outputs\\\\model_performance\\\\model_perf1.csv\", index_col=0)"
   ]
  },
  {
   "cell_type": "code",
   "execution_count": null,
   "metadata": {},
   "outputs": [],
   "source": [
    "fig = plt.figure()\n",
    "\n",
    "plt.plot(df_kfoldavg['Epoch:'], kfold['avg'].train_rmse)\n",
    "plt.plot(df_kfoldavg['Epoch:'], kfold['avg'].test_rmse)\n",
    "plt.show()\n",
    "\n",
    "# Main plotly figure structure\n",
    "fig = go.Figure([go.Scatter(x=df_kfoldavg['year'], y=df_kfoldavg['train_rmse'],\n",
    "                            marker_color='green',\n",
    "                            opacity=0.6,\n",
    "                            name='Value 1')])\n",
    "\n",
    "# One of many possible additions\n",
    "fig.add_traces([go.Scatter(x=df_kfoldavg['Date'], y=df_kfoldavg['test_rmse'],\n",
    "                           marker_color='blue',\n",
    "                           name='Value 2')])\n",
    "\n",
    "# plot figure\n",
    "fig.show()"
   ]
  }
 ],
 "metadata": {
  "kernelspec": {
   "display_name": "Python 3.10.5 64-bit (windows store)",
   "language": "python",
   "name": "python3"
  },
  "language_info": {
   "name": "python",
   "version": "3.10.5"
  },
  "orig_nbformat": 4,
  "vscode": {
   "interpreter": {
    "hash": "255f368fe5968142187b45b447bb971c2263b30f06c7c47462122f57a9d26231"
   }
  }
 },
 "nbformat": 4,
 "nbformat_minor": 2
}
